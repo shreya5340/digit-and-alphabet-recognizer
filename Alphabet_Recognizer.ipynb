{
 "cells": [
  {
   "cell_type": "markdown",
   "id": "9e4528e7",
   "metadata": {},
   "source": [
    "## Importing libraries"
   ]
  },
  {
   "cell_type": "code",
   "execution_count": 41,
   "id": "e0ccf6c5",
   "metadata": {},
   "outputs": [],
   "source": [
    "import tensorflow as tf\n",
    "from tensorflow import keras\n",
    "import matplotlib.pyplot as plt\n",
    "%matplotlib inline\n",
    "import numpy as np\n",
    "import pandas as pd\n",
    "from sklearn.model_selection import train_test_split"
   ]
  },
  {
   "cell_type": "markdown",
   "id": "47f3a794",
   "metadata": {},
   "source": [
    "## Loading training and testing data"
   ]
  },
  {
   "cell_type": "code",
   "execution_count": 42,
   "id": "f159d79f",
   "metadata": {},
   "outputs": [],
   "source": [
    "file = pd.read_csv(r\"C:\\Users\\umamu\\Downloads\\A_Z Handwritten Data.csv\")\n",
    "y_data=file['0']\n",
    "x_data = file.drop('0',axis=1).to_numpy()"
   ]
  },
  {
   "cell_type": "code",
   "execution_count": 53,
   "id": "7021e442",
   "metadata": {},
   "outputs": [],
   "source": [
    "x_train,x_test,y_train,y_test = train_test_split(x_data,y_data,random_state=42,shuffle=True)\n",
    "x_train = x_train/255\n",
    "x_test = x_test/255"
   ]
  },
  {
   "cell_type": "markdown",
   "id": "f4c471f5",
   "metadata": {},
   "source": [
    "## Creating model"
   ]
  },
  {
   "cell_type": "code",
   "execution_count": 60,
   "id": "11243747",
   "metadata": {},
   "outputs": [
    {
     "name": "stdout",
     "output_type": "stream",
     "text": [
      "Epoch 1/5\n",
      "8730/8730 [==============================] - 20s 2ms/step - loss: 0.3048 - accuracy: 0.9172\n",
      "Epoch 2/5\n",
      "8730/8730 [==============================] - 20s 2ms/step - loss: 0.1404 - accuracy: 0.9608\n",
      "Epoch 3/5\n",
      "8730/8730 [==============================] - 20s 2ms/step - loss: 0.1113 - accuracy: 0.9683\n",
      "Epoch 4/5\n",
      "8730/8730 [==============================] - 20s 2ms/step - loss: 0.0942 - accuracy: 0.9729\n",
      "Epoch 5/5\n",
      "8730/8730 [==============================] - 21s 2ms/step - loss: 0.0842 - accuracy: 0.9757\n"
     ]
    },
    {
     "data": {
      "text/plain": [
       "<keras.callbacks.History at 0x1abb90c10d0>"
      ]
     },
     "execution_count": 60,
     "metadata": {},
     "output_type": "execute_result"
    }
   ],
   "source": [
    "model = keras.Sequential([\n",
    "    keras.layers.Dense(100,input_shape=(784,),activation='relu'),\n",
    "    keras.layers.Dense(26,activation='sigmoid')\n",
    "])\n",
    "\n",
    "model.compile(\n",
    "    optimizer='adam',\n",
    "    loss='sparse_categorical_crossentropy',\n",
    "    metrics=['accuracy']\n",
    ")\n",
    "\n",
    "model.fit(x_train,y_train,epochs=5)"
   ]
  },
  {
   "cell_type": "code",
   "execution_count": 61,
   "id": "2699f326",
   "metadata": {},
   "outputs": [
    {
     "name": "stdout",
     "output_type": "stream",
     "text": [
      "2910/2910 [==============================] - 5s 2ms/step - loss: 0.1062 - accuracy: 0.9705\n"
     ]
    },
    {
     "data": {
      "text/plain": [
       "[0.10619718581438065, 0.9704552292823792]"
      ]
     },
     "execution_count": 61,
     "metadata": {},
     "output_type": "execute_result"
    }
   ],
   "source": [
    "model.evaluate(x_test,y_test)"
   ]
  }
 ],
 "metadata": {
  "kernelspec": {
   "display_name": "Python 3 (ipykernel)",
   "language": "python",
   "name": "python3"
  },
  "language_info": {
   "codemirror_mode": {
    "name": "ipython",
    "version": 3
   },
   "file_extension": ".py",
   "mimetype": "text/x-python",
   "name": "python",
   "nbconvert_exporter": "python",
   "pygments_lexer": "ipython3",
   "version": "3.9.12"
  }
 },
 "nbformat": 4,
 "nbformat_minor": 5
}
